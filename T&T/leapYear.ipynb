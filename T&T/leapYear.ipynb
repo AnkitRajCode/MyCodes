{
 "cells": [
  {
   "cell_type": "code",
   "execution_count": null,
   "metadata": {},
   "outputs": [],
   "source": [
    "#leap year\n",
    "leap=int(input('Enter Year: '))\n",
    "if (leap%4==0) and (leap%100!=0):\n",
    "    print('leap year')\n",
    "elif (leap%4==0) and (leap%100==0):\n",
    "    print('leap year')\n",
    "else:\n",
    "    print('Not leap year')"
   ]
  }
 ],
 "metadata": {
  "language_info": {
   "name": "python"
  },
  "orig_nbformat": 4
 },
 "nbformat": 4,
 "nbformat_minor": 2
}
