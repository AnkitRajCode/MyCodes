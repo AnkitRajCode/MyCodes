{
 "cells": [
  {
   "cell_type": "code",
   "execution_count": null,
   "metadata": {},
   "outputs": [],
   "source": [
    "#operators\n",
    "num1 = int(input(\"Enter First no.: \"))\n",
    "num2 = int(input(\"Enter Second no.: \"))\n",
    "\n",
    "print(\"Enter opretor: \")\n",
    "ch = input()\n",
    "result = 0\n",
    "if ch == '+':\n",
    "  result = num1 + num2\n",
    "elif ch == '-':\n",
    "  result = num1 - num2\n",
    "elif ch == '*':\n",
    "  result = num1 * num2\n",
    "elif ch == '/':\n",
    "  result = num1 / num2\n",
    "else:\n",
    "  print('not found')\n",
    "\n",
    "print(num1,ch,num2,\":\",result)"
   ]
  }
 ],
 "metadata": {
  "interpreter": {
   "hash": "63fd5069d213b44bf678585dea6b12cceca9941eaf7f819626cde1f2670de90d"
  },
  "kernelspec": {
   "display_name": "Python 3.9.5 64-bit",
   "language": "python",
   "name": "python3"
  },
  "language_info": {
   "codemirror_mode": {
    "name": "ipython",
    "version": 3
   },
   "file_extension": ".py",
   "mimetype": "text/x-python",
   "name": "python",
   "nbconvert_exporter": "python",
   "pygments_lexer": "ipython3",
   "version": "3.9.5"
  },
  "orig_nbformat": 4
 },
 "nbformat": 4,
 "nbformat_minor": 2
}
