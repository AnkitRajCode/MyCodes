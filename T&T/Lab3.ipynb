{
  "nbformat": 4,
  "nbformat_minor": 0,
  "metadata": {
    "colab": {
      "name": "Lab3.ipynb",
      "provenance": []
    },
    "kernelspec": {
      "name": "python3",
      "display_name": "Python 3"
    },
    "language_info": {
      "name": "python"
    }
  },
  "cells": [
    {
      "cell_type": "code",
      "execution_count": 1,
      "metadata": {
        "colab": {
          "base_uri": "https://localhost:8080/"
        },
        "id": "pft4zP3BRzMQ",
        "outputId": "42e87f90-a81e-498d-8e47-67b4e00d7ccf"
      },
      "outputs": [
        {
          "output_type": "execute_result",
          "data": {
            "text/plain": [
              "33"
            ]
          },
          "metadata": {},
          "execution_count": 1
        }
      ],
      "source": [
        "# 1) Write a Python function to find the greatest among three numbers.\n",
        "largest=0\n",
        "def greater(x,y,z) :\n",
        "    if (x >= y) and (x >= z):\n",
        "        largest=x\n",
        "    elif (y >= x) and (y >= z):\n",
        "        largest = y\n",
        "    else:\n",
        "        largest = z\n",
        "          \n",
        "    return largest\n",
        "t=greater(4,33,6)\n",
        "t"
      ]
    },
    {
      "cell_type": "code",
      "source": [
        "# 2) Write a Python function to reverse a string\n",
        "def reverse(s):\n",
        "  str = \"\"\n",
        "  for i in s:\n",
        "    str = i + str\n",
        "  return str\n",
        "s = \"abcd efgh\"\n",
        "  \n",
        "print (\"String: \",end=\"\")\n",
        "print (s)\n",
        "print (\"Reversed: \",end=\"\")\n",
        "print (reverse(s))"
      ],
      "metadata": {
        "colab": {
          "base_uri": "https://localhost:8080/"
        },
        "id": "uIfUArcTVUSq",
        "outputId": "15898c6c-6137-4acf-fb54-8c5685646922"
      },
      "execution_count": 4,
      "outputs": [
        {
          "output_type": "stream",
          "name": "stdout",
          "text": [
            "String: abcd efgh\n",
            "Reversed: hgfe dcba\n"
          ]
        }
      ]
    },
    {
      "cell_type": "code",
      "source": [
        "# 3) Write a Python function that takes a list and returns a new list with unique elements of the first list.\n",
        "def un(a):\n",
        "  b=set({})\n",
        "  i=0\n",
        "  while i<len(a):\n",
        "    b.add(a[i])\n",
        "    i+=1\n",
        "  return list(b)\n",
        "a=[1,1,2,3,4,5,3,2,1,1]\n",
        "print(un(a))"
      ],
      "metadata": {
        "colab": {
          "base_uri": "https://localhost:8080/"
        },
        "id": "ziSNOXJkSQn7",
        "outputId": "4883690c-69e5-4f3c-bb45-ba242f577c03"
      },
      "execution_count": 41,
      "outputs": [
        {
          "output_type": "stream",
          "name": "stdout",
          "text": [
            "[1, 2, 3, 4, 5]\n"
          ]
        }
      ]
    },
    {
      "cell_type": "code",
      "source": [
        "# 4) Write a Python function that checks whether a passed string is palindrome or not.\n",
        "def isPalindrome(string):\n",
        "\tleft_pos = 0\n",
        "\tright_pos = len(string) - 1\n",
        "\t\n",
        "\twhile right_pos >= left_pos:\n",
        "\t\tif not string[left_pos] == string[right_pos]:\n",
        "\t\t\treturn False\n",
        "\t\tleft_pos += 1\n",
        "\t\tright_pos -= 1\n",
        "\treturn True\n",
        "print(isPalindrome('abcdcba'))"
      ],
      "metadata": {
        "colab": {
          "base_uri": "https://localhost:8080/"
        },
        "id": "XzbNsBaBSYXM",
        "outputId": "3596a80e-baa1-44c6-fdd4-9a513293d638"
      },
      "execution_count": 8,
      "outputs": [
        {
          "output_type": "stream",
          "name": "stdout",
          "text": [
            "True\n"
          ]
        }
      ]
    },
    {
      "cell_type": "code",
      "source": [
        "#5) Write a Python function to find out the factorial of a number using recursion.\n",
        "def factorial(n):\n",
        "  if (n==1 or n==0):\n",
        "    return 1\n",
        "  else:\n",
        "    return (n * factorial(n - 1))\n",
        "num = 5; \n",
        "print(\"Number : \",num)\n",
        "print(\"Factorial : \",factorial(num))"
      ],
      "metadata": {
        "colab": {
          "base_uri": "https://localhost:8080/"
        },
        "id": "I67p_58aVgNw",
        "outputId": "fe6e2f71-bae9-4e21-c0b1-50ca8d0d9ab1"
      },
      "execution_count": 9,
      "outputs": [
        {
          "output_type": "stream",
          "name": "stdout",
          "text": [
            "Number :  5\n",
            "Factorial :  120\n"
          ]
        }
      ]
    },
    {
      "cell_type": "code",
      "source": [
        "#6) Write a Python function to display the Fibonacci Series using recursion.\n",
        "def fibo(n):\n",
        "  if n <= 1:\n",
        "       return n\n",
        "  else:\n",
        "       return(fibo(n-1) + fibo(n-2))\n",
        "nterms = 10\n",
        "\n",
        "if nterms <= 0:\n",
        "   print(\"Enter a positive integer\")\n",
        "else:\n",
        "   print(\"Fibonacci series:\")\n",
        "   for i in range(nterms):\n",
        "       print(fibo(i), end=\" \")"
      ],
      "metadata": {
        "colab": {
          "base_uri": "https://localhost:8080/"
        },
        "id": "_HJUGklBVkSF",
        "outputId": "b05410e1-a2d2-4ebe-decb-ab45ff80b020"
      },
      "execution_count": 10,
      "outputs": [
        {
          "output_type": "stream",
          "name": "stdout",
          "text": [
            "Fibonacci series:\n",
            "0 1 1 2 3 5 8 13 21 34 "
          ]
        }
      ]
    },
    {
      "cell_type": "code",
      "source": [
        "#7) Write a Python function to find out Sum of Digits using recursion.\n",
        "def sumDigit( n ):\n",
        "  if n == 0:\n",
        "    return 0\n",
        "  return (n % 10 + sumDigit(int(n / 10)))\n",
        "num = 12345\n",
        "result = sumDigit(num)\n",
        "print(\"Sum of digits: \", result)"
      ],
      "metadata": {
        "colab": {
          "base_uri": "https://localhost:8080/"
        },
        "id": "4RFaWT-FVoIM",
        "outputId": "8f0b1b1d-ef79-410a-ee26-8552339574af"
      },
      "execution_count": 11,
      "outputs": [
        {
          "output_type": "stream",
          "name": "stdout",
          "text": [
            "Sum of digits:  15\n"
          ]
        }
      ]
    },
    {
      "cell_type": "code",
      "source": [
        "#8) Write a Python function to find out LCM and GCD using recursion.\n",
        "def gcd(a,b):\n",
        "  if(b==0):\n",
        "    return a\n",
        "  else:\n",
        "    return gcd(b,a%b)\n",
        "\n",
        "def lcm(a,b):\n",
        "    lcm.multiple=lcm.multiple+b\n",
        "    if((lcm.multiple % a == 0) and (lcm.multiple % b == 0)):\n",
        "        return lcm.multiple;\n",
        "    else:\n",
        "        lcm(a, b)\n",
        "    return lcm.multiple\n",
        "lcm.multiple=0\n",
        "\n",
        "a=int(input(\"Enter num1:\"))\n",
        "b=int(input(\"Enter num2:\"))\n",
        "GCD=gcd(a,b)\n",
        "print(\"GCD is: \", GCD)\n",
        "\n",
        "if(a>b):\n",
        "    LCM=lcm(b,a)\n",
        "else:\n",
        "    LCM=lcm(a,b)\n",
        "print(\"LCM is: \", LCM)"
      ],
      "metadata": {
        "colab": {
          "base_uri": "https://localhost:8080/"
        },
        "id": "DoCTQIqdYKAW",
        "outputId": "ce465885-60da-4430-93c4-1eac5472d7f3"
      },
      "execution_count": 13,
      "outputs": [
        {
          "output_type": "stream",
          "name": "stdout",
          "text": [
            "Enter num1:5\n",
            "Enter num2:6\n",
            "GCD is:  1\n",
            "LCM is:  30\n"
          ]
        }
      ]
    },
    {
      "cell_type": "code",
      "source": [
        "#9) Write a Python function to implement Binary Search without using recursion.\n",
        "def binarySearch(alist, key):\n",
        "    start = 0\n",
        "    end = len(alist)\n",
        "    while start < end:\n",
        "        mid = (start + end)//2\n",
        "        if alist[mid] > key:\n",
        "            end = mid\n",
        "        elif alist[mid] < key:\n",
        "            start = mid + 1\n",
        "        else:\n",
        "            return mid\n",
        "    return -1\n",
        "\n",
        "alist = input('Enter the sorted list of numbers: ')\n",
        "alist = alist.split()\n",
        "alist = [int(x) for x in alist]\n",
        "key = int(input('Enter number to search: '))\n",
        "\n",
        "index = binarySearch(alist, key)\n",
        "if index < 0:\n",
        "    print('{} was not found.'.format(key))\n",
        "else:\n",
        "    print('{} was found at index {}.'.format(key, index))"
      ],
      "metadata": {
        "colab": {
          "base_uri": "https://localhost:8080/"
        },
        "id": "VMFYc1V3YRTb",
        "outputId": "08a2b705-5e8c-4c04-eddc-52b9c89ecc3f"
      },
      "execution_count": 16,
      "outputs": [
        {
          "output_type": "stream",
          "name": "stdout",
          "text": [
            "Enter the sorted list of numbers: 3 5 10 12 15 20\n",
            "Enter number to search: 12\n",
            "12 was found at index 3.\n"
          ]
        }
      ]
    },
    {
      "cell_type": "code",
      "source": [
        "#10) Write a Python function to implement Binary Search using recursion.\n",
        "def binarySearch(arr, low, high, x):\n",
        "    if high >= low:\n",
        "        mid = (high + low) // 2\n",
        "        if arr[mid] == x:\n",
        "            return mid\n",
        "        elif arr[mid] > x:\n",
        "            return binarySearch(arr, low, mid - 1, x)\n",
        "        else:\n",
        "            return binarySearch(arr, mid + 1, high, x)\n",
        "    else:\n",
        "        return -1\n",
        "arr = input('Enter the sorted list of numbers: ')\n",
        "arr = arr.split()\n",
        "arr = [int(x) for x in alist]\n",
        "x = int(input('Enter number to search: '))\n",
        "result = binarySearch(arr, 0, len(arr)-1, x)\n",
        "\n",
        "if result != -1:\n",
        "    print(\"Element is present at index\", str(result))\n",
        "else:\n",
        "    print(\"Element is not present in array\")"
      ],
      "metadata": {
        "colab": {
          "base_uri": "https://localhost:8080/"
        },
        "id": "b_KiHCOvYepY",
        "outputId": "a5e734e4-a8bd-4fd6-f8a9-8318ef29259b"
      },
      "execution_count": 17,
      "outputs": [
        {
          "output_type": "stream",
          "name": "stdout",
          "text": [
            "Enter the sorted list of numbers: 3 5 10 12 15 20\n",
            "Enter number to search: 12\n",
            "Element is present at index 3\n"
          ]
        }
      ]
    },
    {
      "cell_type": "code",
      "source": [
        "#11) WAP to calculate the sum of digits of a given number.\n",
        "n=int(input(\"enter a number: \"))\n",
        "sum=0\n",
        "while n>0:\n",
        "    sum+=n%10\n",
        "    n=n//10\n",
        "print(\"sum of digits is: \",sum)"
      ],
      "metadata": {
        "colab": {
          "base_uri": "https://localhost:8080/"
        },
        "id": "ZmUlvAE2Yim7",
        "outputId": "9fe6a9ca-a41e-4f8e-8d03-aadfe4f0f65d"
      },
      "execution_count": 21,
      "outputs": [
        {
          "output_type": "stream",
          "name": "stdout",
          "text": [
            "enter a number: 56\n",
            "sum of digits is:  11\n"
          ]
        }
      ]
    },
    {
      "cell_type": "code",
      "source": [
        "#12) WAP to check whether a number n is prime number or not.\n",
        "num=int(input(\"enter a number: \"))\n",
        "if num > 1:\n",
        "\tfor i in range(2, int(num/2)+1):\n",
        "\t\tif (num % i) == 0:\n",
        "\t\t\tprint(num, \"is not a prime number\")\n",
        "\t\t\tbreak\n",
        "\telse:\n",
        "\t\tprint(num, \"is a prime number\")\n",
        "\n",
        "else:\n",
        "\tprint(num, \"is not a prime number\")"
      ],
      "metadata": {
        "colab": {
          "base_uri": "https://localhost:8080/"
        },
        "id": "hwvh2qDvYmgw",
        "outputId": "2a4dd5f2-0469-456f-ed35-5673bdd7a4eb"
      },
      "execution_count": 24,
      "outputs": [
        {
          "output_type": "stream",
          "name": "stdout",
          "text": [
            "enter a number: 16\n",
            "16 is not a prime number\n"
          ]
        }
      ]
    },
    {
      "cell_type": "code",
      "source": [
        "#13)Write a function to check if a given number is perfect or not. \n",
        "n = int(input(\"Enter a number: \"))\n",
        "sum1 = 0\n",
        "for i in range(1, n):\n",
        "    if(n % i == 0):\n",
        "        sum1 = sum1 + i\n",
        "if (sum1 == n):\n",
        "    print(\"The number is a Perfect number\")\n",
        "else:\n",
        "    print(\"The number is not a Perfect number\")"
      ],
      "metadata": {
        "colab": {
          "base_uri": "https://localhost:8080/"
        },
        "id": "3zI_lwzcYxM4",
        "outputId": "b1687c14-4fc9-4243-fe46-5358f0ce59cd"
      },
      "execution_count": 26,
      "outputs": [
        {
          "output_type": "stream",
          "name": "stdout",
          "text": [
            "Enter a number: 35\n",
            "The number is not a Perfect number\n"
          ]
        }
      ]
    },
    {
      "cell_type": "code",
      "source": [
        "#14) WAP to print the series as 1 2 7 15 31 ..........n, where n is given by user.\n",
        "num=int(input(\"Enter the number: \"))\n",
        "def sr(n):\n",
        "  i=3\n",
        "  print(1,2,end=\" \")\n",
        "  while i<=n:\n",
        "    print((2**i-1),end=\" \")\n",
        "    i+=1\n",
        "sr(num)"
      ],
      "metadata": {
        "colab": {
          "base_uri": "https://localhost:8080/"
        },
        "id": "06xUYNwWY3iT",
        "outputId": "5a12712a-017d-4644-acf0-b290c98226d5"
      },
      "execution_count": 36,
      "outputs": [
        {
          "output_type": "stream",
          "name": "stdout",
          "text": [
            "Enter the number: 7\n",
            "1 2 7 15 31 63 127 "
          ]
        }
      ]
    },
    {
      "cell_type": "code",
      "source": [
        "#15) WAP to print the series as 3 5 7 11 13 17..........n, where n is given by user. (odd prime number)"
      ],
      "metadata": {
        "id": "ssYArEZGjFk_"
      },
      "execution_count": null,
      "outputs": []
    },
    {
      "cell_type": "code",
      "source": [
        "#16) WAP to sum the following series S=1+(1+2)+(1+2+3)+...+(1+2+3+...+n)\n",
        "n=int(input(\"enter the value of n: \"))\n",
        "sum=0\n",
        "for i in range(1,n+1):\n",
        "    sum=sum+i\n",
        "print(\"the sum of series is:\",sum)"
      ],
      "metadata": {
        "colab": {
          "base_uri": "https://localhost:8080/"
        },
        "id": "NutMl9LfZBo3",
        "outputId": "cecd2e3e-3be0-4da6-dbb2-925dfacb5082"
      },
      "execution_count": 28,
      "outputs": [
        {
          "output_type": "stream",
          "name": "stdout",
          "text": [
            "enter the value of n: 15\n",
            "the sum of series is: 120\n"
          ]
        }
      ]
    },
    {
      "cell_type": "code",
      "source": [
        "#17) Pattern\n",
        "n = 5\n",
        "for i in range(1,n+1):\n",
        "    print('* '*i)"
      ],
      "metadata": {
        "colab": {
          "base_uri": "https://localhost:8080/"
        },
        "id": "G-EkcEaCexDV",
        "outputId": "c0694f0b-268e-42eb-9610-10fdf512bcce"
      },
      "execution_count": 30,
      "outputs": [
        {
          "output_type": "stream",
          "name": "stdout",
          "text": [
            "* \n",
            "* * \n",
            "* * * \n",
            "* * * * \n",
            "* * * * * \n"
          ]
        }
      ]
    },
    {
      "cell_type": "code",
      "source": [
        "#18) Pattern\n",
        "n = 5\n",
        "for i in range(1,n+1):\n",
        "    print('* '*i)"
      ],
      "metadata": {
        "colab": {
          "base_uri": "https://localhost:8080/"
        },
        "id": "ZK344CY3gWS2",
        "outputId": "413f6121-6b6a-4a76-d77c-7483f805d606"
      },
      "execution_count": 31,
      "outputs": [
        {
          "output_type": "stream",
          "name": "stdout",
          "text": [
            "* \n",
            "* * \n",
            "* * * \n",
            "* * * * \n",
            "* * * * * \n"
          ]
        }
      ]
    },
    {
      "cell_type": "code",
      "source": [
        "#19) Pattern\n",
        "rows=6\n",
        "for i in range(1,rows):\n",
        "  for j in range(i,0,-1):\n",
        "    print(j, end=\" \")\n",
        "  print(\"\")"
      ],
      "metadata": {
        "colab": {
          "base_uri": "https://localhost:8080/"
        },
        "id": "eTQqbqzlgdbN",
        "outputId": "fe2ab890-0671-46bd-eb5b-573c0c5ddc38"
      },
      "execution_count": 32,
      "outputs": [
        {
          "output_type": "stream",
          "name": "stdout",
          "text": [
            "1 \n",
            "2 1 \n",
            "3 2 1 \n",
            "4 3 2 1 \n",
            "5 4 3 2 1 \n"
          ]
        }
      ]
    },
    {
      "cell_type": "code",
      "source": [
        "#20) WAP to convert a decimal number into its equivalent number with base b. Decimal number and b are the user input."
      ],
      "metadata": {
        "id": "BcWXfoSGhgJw"
      },
      "execution_count": null,
      "outputs": []
    },
    {
      "cell_type": "code",
      "source": [
        "#24) write function to find smallest number in a list\n",
        "a = [18, 52, 17, 41, 32]\n",
        "smallest = min(a)\n",
        "print(\"Smallest number in the list is :\",smallest)"
      ],
      "metadata": {
        "colab": {
          "base_uri": "https://localhost:8080/"
        },
        "id": "t7UrpRmmmJkr",
        "outputId": "24169f72-d15b-4874-b9e7-4c7c54c3a7bd"
      },
      "execution_count": 38,
      "outputs": [
        {
          "output_type": "stream",
          "name": "stdout",
          "text": [
            "Smallest number in the list is : 17\n"
          ]
        }
      ]
    },
    {
      "cell_type": "code",
      "source": [
        "#25) write a python function to find largest number in a list\n",
        "a = [18, 52, 17, 41, 32]\n",
        "largest = max(a)\n",
        "print(\"Largest number in the list is :\",largest)"
      ],
      "metadata": {
        "colab": {
          "base_uri": "https://localhost:8080/"
        },
        "id": "oUwwhMHHm2up",
        "outputId": "5c082e97-5df7-4bbc-e133-49b31163e737"
      },
      "execution_count": 40,
      "outputs": [
        {
          "output_type": "stream",
          "name": "stdout",
          "text": [
            "Largest number in the list is : 52\n"
          ]
        }
      ]
    },
    {
      "cell_type": "code",
      "source": [
        "#26) write a python function to find second largest number in a list"
      ],
      "metadata": {
        "id": "4nrV-NrnnTiV"
      },
      "execution_count": null,
      "outputs": []
    }
  ]
}